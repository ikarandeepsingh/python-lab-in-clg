{
 "cells": [
  {
   "cell_type": "code",
   "execution_count": null,
   "metadata": {},
   "outputs": [],
   "source": [
    "string=input(\"Enter string:\")\n",
    "string=string.replace('m','$')\n",
    "string=string.replace('s','@')\n",
    "print(\"Modified string:\")\n",
    "print(string)"
   ]
  },
  {
   "cell_type": "code",
   "execution_count": null,
   "metadata": {},
   "outputs": [],
   "source": [
    "ch=input(\"Please enter your own character:\")\n",
    "\n",
    "if(ch=='a' or ch=='e' or ch=='i' or ch=='o' or ch=='u' or ch==\"A\" or ch=='E' or ch=='I' or ch==\"O\" or ch==\"U\") :\n",
    "   print(\"The given character\",ch,\"is a VOWEL\")\n",
    "else: \n",
    "   print(\"The given character\",ch,\"is a CONSONENT\") "
   ]
  },
  {
   "cell_type": "code",
   "execution_count": null,
   "metadata": {},
   "outputs": [],
   "source": [
    "def add(x,y) :\n",
    "    return x+y\n",
    "def subtract(x,y) :\n",
    "    return x-y\n",
    "def multiply(x,y) :\n",
    "    return x*y\n",
    "def divide(x,y) :\n",
    "    return x/y\n",
    "def sqrt(x) :\n",
    "    return (x)**(1/2)\n",
    "print(\"Calculator\")\n",
    "print(\"1. add\")\n",
    "print(\"2. subtract\")\n",
    "print(\"3. multiply\")\n",
    "print(\"4. divide\")\n",
    "print(\"5. squareroot\")\n",
    "n=int(input(\"Enter your choice\"))\n",
    "if (n<5) :\n",
    "    a=float(input(\"a= \"))\n",
    "    b=float(input(\"b= \"))\n",
    "    if(n==1) :\n",
    "        print(a,\"+\",b,\"=\",add(a,b))\n",
    "    elif(n==2) :\n",
    "        print(a,\"-\",b,\"=\",subtract(a,b))\n",
    "    elif(n==3) :\n",
    "        print(a,\"*\",b,\"=\",multiply(a,b))\n",
    "    else:\n",
    "        print(a,\"/\",b,\"=\",divide(a,b))    \n",
    "elif(n>4) :\n",
    "    a=int(input(\"a= \"))\n",
    "    print(a,\"=\",sqrt(a))\n",
    "else :\n",
    "    print(\"invalid choice\")"
   ]
  },
  {
   "cell_type": "code",
   "execution_count": null,
   "metadata": {},
   "outputs": [],
   "source": []
  }
 ],
 "metadata": {
  "kernelspec": {
   "display_name": "Python 3",
   "language": "python",
   "name": "python3"
  },
  "language_info": {
   "codemirror_mode": {
    "name": "ipython",
    "version": 3
   },
   "file_extension": ".py",
   "mimetype": "text/x-python",
   "name": "python",
   "nbconvert_exporter": "python",
   "pygments_lexer": "ipython3",
   "version": "3.7.4"
  }
 },
 "nbformat": 4,
 "nbformat_minor": 2
}
